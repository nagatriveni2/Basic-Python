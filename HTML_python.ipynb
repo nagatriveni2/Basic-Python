{
 "cells": [
  {
   "cell_type": "code",
   "execution_count": 19,
   "metadata": {},
   "outputs": [],
   "source": [
    "import webbrowser\n",
    "\n",
    "with open('h1.html','xt') as f:\n",
    "\n",
    "    message = '<html><head></head><body><p>Hello World!</p></body></html>'\n",
    "\n",
    "    f.write(message)\n",
    "    f.close()\n",
    "\n",
    "    webbrowser.open_new_tab('h1.html')\n"
   ]
  },
  {
   "cell_type": "code",
   "execution_count": 21,
   "metadata": {},
   "outputs": [],
   "source": [
    "# Create a file if it doesn't already exist\n",
    "with open('hi.html', 'xt') as f:\n",
    "    # Write to the file\n",
    "    message='<html><head></head><body><p>Hello World!</p></body></html>'\n",
    "    f.write(message)\n",
    "    # Close the connection to the file\n",
    "    f.close()"
   ]
  },
  {
   "cell_type": "code",
   "execution_count": 22,
   "metadata": {},
   "outputs": [],
   "source": [
    "import webbrowser\n",
    "\n",
    "with open('h1.html','xt') as f:\n",
    "\n",
    "    message = '<html><head></head><body><p>Hello World!</p></body></html>'\n",
    "\n",
    "    f.write(message)\n",
    "    f.close()\n",
    "\n",
    "    webbrowser.open_new_tab('h1.html')\n"
   ]
  },
  {
   "cell_type": "code",
   "execution_count": 25,
   "metadata": {},
   "outputs": [
    {
     "name": "stdout",
     "output_type": "stream",
     "text": [
      " * Serving Flask app \"__main__\" (lazy loading)\n",
      " * Environment: production\n",
      "   WARNING: This is a development server. Do not use it in a production deployment.\n",
      "   Use a production WSGI server instead.\n",
      " * Debug mode: on\n"
     ]
    },
    {
     "name": "stderr",
     "output_type": "stream",
     "text": [
      " * Restarting with stat\n"
     ]
    },
    {
     "ename": "SystemExit",
     "evalue": "1",
     "output_type": "error",
     "traceback": [
      "An exception has occurred, use %tb to see the full traceback.\n",
      "\u001b[1;31mSystemExit\u001b[0m\u001b[1;31m:\u001b[0m 1\n"
     ]
    },
    {
     "name": "stderr",
     "output_type": "stream",
     "text": [
      "C:\\ProgramData\\Anaconda3\\lib\\site-packages\\IPython\\core\\interactiveshell.py:3333: UserWarning: To exit: use 'exit', 'quit', or Ctrl-D.\n",
      "  warn(\"To exit: use 'exit', 'quit', or Ctrl-D.\", stacklevel=1)\n"
     ]
    }
   ],
   "source": [
    "from flask import Flask, flash,render_template,request\n",
    "\n",
    "from sqlalchemy import true\n",
    "\n",
    "app=Flask(__name__)\n",
    "\n",
    "app.secret_key=\"new\"\n",
    "\n",
    "@app.route('/reg1')\n",
    "\n",
    "def move():\n",
    "\n",
    "    return render_template(\"reg1.html\")\n",
    "\n",
    "@app.route('/col',methods=['POST','GET'])\n",
    "\n",
    "def col():\n",
    "\n",
    "    if request.method:'post'\n",
    "\n",
    "    n1=request.form['n1']\n",
    "                    \n",
    "    n2 = request.form['n2']\n",
    "\n",
    "    n3 = request.form['n3']\n",
    "    \n",
    "    n4 = request.form['n4']\n",
    "\n",
    "    n5 = request.form['n5']\n",
    "\n",
    "    n6 = request.form['n6']\n",
    "\n",
    "    n7 = request.form['n7']\n",
    "\n",
    "    n8 = request.form['n8']\n",
    "\n",
    "    n9 = request.form['n9']\n",
    "\n",
    "    return render_template(\"f1.html\",n1=n1,n2=n2,n3=n3,n4=n4,n5=n5,n6=n6,n7=n7,n8=n8,n9=n9)\n",
    "\n",
    "@app.route(\"/reg\",methods=['POST','GET'])\n",
    "\n",
    "def reg():\n",
    "\n",
    "    if request.method:'POST'\n",
    "\n",
    "    return render_template(\"suc.html\")\n",
    "\n",
    "if __name__ == '__main__':\n",
    "\n",
    "    app.debug=true\n",
    "\n",
    "    app.run()\n",
    "\n",
    "    app.run(debug=true)\n",
    "\n",
    "    \n",
    "\n"
   ]
  },
  {
   "cell_type": "code",
   "execution_count": 6,
   "metadata": {},
   "outputs": [],
   "source": [
    "import pandas as pd\n",
    "from sklearn import neighbors\n",
    "import numpy as np\n"
   ]
  },
  {
   "cell_type": "code",
   "execution_count": 35,
   "metadata": {},
   "outputs": [],
   "source": [
    "training_data = pd.DataFrame()\n",
    "\n",
    "training_data['test_1'] = [0.3051,0.4949,0.6974,0.3769,0.2231,0.341,0.4436,0.5897,0.6308,0.5]\n",
    "training_data['test_2'] = [0.5846,0.2654,0.2615,0.4538,0.4615,0.8308,0.4962,0.3269,0.5346,0.6731]\n",
    "training_data['outcome'] = ['win','win','win','win','win','loss','loss','loss','loss','loss']\n",
    "\n",
    "training_data.head()\n",
    "# X = training_data.as_matrix(columns=['test_1', 'test_2'])\n",
    "y = np.array(training_data['outcome'])\n",
    "X=np.array([[0.3051, 0.5846],\n",
    "       [0.4949, 0.2654],\n",
    "       [0.6974, 0.2615],\n",
    "       [0.3769, 0.4538],\n",
    "       [0.2231, 0.4615],\n",
    "       [0.341 , 0.8308],\n",
    "       [0.4436, 0.4962],\n",
    "       [0.5897, 0.3269],\n",
    "       [0.6308, 0.5346],\n",
    "       [0.5   , 0.6731]])"
   ]
  },
  {
   "cell_type": "code",
   "execution_count": 36,
   "metadata": {},
   "outputs": [],
   "source": [
    "clf = neighbors.KNeighborsClassifier(3, weights = 'uniform')\n",
    "trained_model = clf.fit(X, y)\n"
   ]
  },
  {
   "cell_type": "code",
   "execution_count": 37,
   "metadata": {},
   "outputs": [
    {
     "data": {
      "text/plain": [
       "0.8"
      ]
     },
     "execution_count": 37,
     "metadata": {},
     "output_type": "execute_result"
    }
   ],
   "source": [
    "trained_model.score(X, y)\n"
   ]
  },
  {
   "cell_type": "code",
   "execution_count": null,
   "metadata": {},
   "outputs": [],
   "source": []
  },
  {
   "cell_type": "code",
   "execution_count": null,
   "metadata": {},
   "outputs": [],
   "source": []
  }
 ],
 "metadata": {
  "kernelspec": {
   "display_name": "Python 3",
   "language": "python",
   "name": "python3"
  },
  "language_info": {
   "codemirror_mode": {
    "name": "ipython",
    "version": 3
   },
   "file_extension": ".py",
   "mimetype": "text/x-python",
   "name": "python",
   "nbconvert_exporter": "python",
   "pygments_lexer": "ipython3",
   "version": "3.7.3"
  }
 },
 "nbformat": 4,
 "nbformat_minor": 2
}
