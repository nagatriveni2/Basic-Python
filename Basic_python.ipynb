{
 "cells": [
  {
   "cell_type": "markdown",
   "metadata": {},
   "source": [
    "# Create Some Text\n"
   ]
  },
  {
   "cell_type": "code",
   "execution_count": 2,
   "metadata": {},
   "outputs": [],
   "source": [
    "text = 'Chapter 1'\n"
   ]
  },
  {
   "cell_type": "code",
   "execution_count": 3,
   "metadata": {},
   "outputs": [
    {
     "data": {
      "text/plain": [
       "'           Chapter 1'"
      ]
     },
     "execution_count": 3,
     "metadata": {},
     "output_type": "execute_result"
    }
   ],
   "source": [
    "# Add Spaces Of Padding To The Left\n",
    "format(text, '>20')"
   ]
  },
  {
   "cell_type": "code",
   "execution_count": 4,
   "metadata": {},
   "outputs": [
    {
     "data": {
      "text/plain": [
       "'Chapter 1           '"
      ]
     },
     "execution_count": 4,
     "metadata": {},
     "output_type": "execute_result"
    }
   ],
   "source": [
    "# Add Spaces Of Padding To The Right\n",
    "format(text, '<20')\n"
   ]
  },
  {
   "cell_type": "code",
   "execution_count": 5,
   "metadata": {},
   "outputs": [
    {
     "data": {
      "text/plain": [
       "'     Chapter 1      '"
      ]
     },
     "execution_count": 5,
     "metadata": {},
     "output_type": "execute_result"
    }
   ],
   "source": [
    "# Add Spaces Of Padding On Each Side\n",
    "format(text, '^20')\n"
   ]
  },
  {
   "cell_type": "code",
   "execution_count": 6,
   "metadata": {},
   "outputs": [
    {
     "data": {
      "text/plain": [
       "'*****Chapter 1******'"
      ]
     },
     "execution_count": 6,
     "metadata": {},
     "output_type": "execute_result"
    }
   ],
   "source": [
    "# Add * Of Padding On Each Side\n",
    "format(text, '*^20')\n"
   ]
  },
  {
   "cell_type": "markdown",
   "metadata": {},
   "source": [
    "# All Combinations For A List Of Objects\n"
   ]
  },
  {
   "cell_type": "code",
   "execution_count": 7,
   "metadata": {},
   "outputs": [],
   "source": [
    "# Import combinations with replacements from itertools\n",
    "from itertools import combinations_with_replacement\n"
   ]
  },
  {
   "cell_type": "code",
   "execution_count": 8,
   "metadata": {},
   "outputs": [],
   "source": [
    "# Create a list of objects to combine\n",
    "list_of_objects = ['warplanes', 'armor', 'infantry']\n"
   ]
  },
  {
   "cell_type": "code",
   "execution_count": 14,
   "metadata": {},
   "outputs": [],
   "source": [
    "# Create an empty list object to hold the results of the loop\n",
    "combinations = []\n",
    "\n",
    "# Create a loop for every item in the length of list_of_objects, that,\n",
    "for i in list(range(len(list_of_objects))):\n",
    "    # Finds every combination (with replacement) for each object in the list\n",
    "    combinations.append(combinations_with_replacement(list_of_objects, i+1))\n"
   ]
  },
  {
   "cell_type": "code",
   "execution_count": 10,
   "metadata": {},
   "outputs": [
    {
     "data": {
      "text/plain": [
       "[('warplanes',),\n",
       " ('armor',),\n",
       " ('infantry',),\n",
       " ('warplanes', 'warplanes'),\n",
       " ('warplanes', 'armor'),\n",
       " ('warplanes', 'infantry'),\n",
       " ('armor', 'armor'),\n",
       " ('armor', 'infantry'),\n",
       " ('infantry', 'infantry'),\n",
       " ('warplanes', 'warplanes', 'warplanes'),\n",
       " ('warplanes', 'warplanes', 'armor'),\n",
       " ('warplanes', 'warplanes', 'infantry'),\n",
       " ('warplanes', 'armor', 'armor'),\n",
       " ('warplanes', 'armor', 'infantry'),\n",
       " ('warplanes', 'infantry', 'infantry'),\n",
       " ('armor', 'armor', 'armor'),\n",
       " ('armor', 'armor', 'infantry'),\n",
       " ('armor', 'infantry', 'infantry'),\n",
       " ('infantry', 'infantry', 'infantry')]"
      ]
     },
     "execution_count": 10,
     "metadata": {},
     "output_type": "execute_result"
    }
   ],
   "source": [
    "# Flatten the list of iterators into a single list\n",
    "combinations = [i for row in combinations for i in row]\n",
    "\n",
    "# View the results\n",
    "combinations\n"
   ]
  },
  {
   "cell_type": "markdown",
   "metadata": {},
   "source": [
    "# Apply Operations Over Items In A List\n",
    "Method 1: map()\n"
   ]
  },
  {
   "cell_type": "code",
   "execution_count": 15,
   "metadata": {},
   "outputs": [],
   "source": [
    "# Create a list of casualties from battles\n",
    "battleDeaths = [482, 93, 392, 920, 813, 199, 374, 237, 244]\n"
   ]
  },
  {
   "cell_type": "code",
   "execution_count": 16,
   "metadata": {},
   "outputs": [],
   "source": [
    "# Create a function that updates all battle deaths by adding 100\n",
    "def updated(x): return x + 100\n"
   ]
  },
  {
   "cell_type": "code",
   "execution_count": 17,
   "metadata": {},
   "outputs": [
    {
     "data": {
      "text/plain": [
       "[582, 193, 492, 1020, 913, 299, 474, 337, 344]"
      ]
     },
     "execution_count": 17,
     "metadata": {},
     "output_type": "execute_result"
    }
   ],
   "source": [
    "# Create a list that applies updated() to all elements of battleDeaths\n",
    "list(map(updated, battleDeaths))\n"
   ]
  },
  {
   "cell_type": "markdown",
   "metadata": {},
   "source": [
    "# Method 2: for x in y\n"
   ]
  },
  {
   "cell_type": "code",
   "execution_count": 18,
   "metadata": {},
   "outputs": [],
   "source": [
    "# Create a list of deaths\n",
    "casualties = [482, 93, 392, 920, 813, 199, 374, 237, 244]\n"
   ]
  },
  {
   "cell_type": "code",
   "execution_count": 19,
   "metadata": {},
   "outputs": [],
   "source": [
    "# Create a variable where we will put the updated casualty numbers\n",
    "casualtiesUpdated = []\n"
   ]
  },
  {
   "cell_type": "code",
   "execution_count": 20,
   "metadata": {},
   "outputs": [],
   "source": [
    "# Create a function that for each item in casualties, adds 10\n",
    "for x in casualties:\n",
    "    casualtiesUpdated.append(x + 100)\n"
   ]
  },
  {
   "cell_type": "code",
   "execution_count": 21,
   "metadata": {},
   "outputs": [
    {
     "data": {
      "text/plain": [
       "[582, 193, 492, 1020, 913, 299, 474, 337, 344]"
      ]
     },
     "execution_count": 21,
     "metadata": {},
     "output_type": "execute_result"
    }
   ],
   "source": [
    "# View casualties variables\n",
    "casualtiesUpdated\n"
   ]
  },
  {
   "cell_type": "code",
   "execution_count": 22,
   "metadata": {},
   "outputs": [
    {
     "data": {
      "text/plain": [
       "[582, 193, 492, 1020, 913, 299, 474, 337, 344]"
      ]
     },
     "execution_count": 22,
     "metadata": {},
     "output_type": "execute_result"
    }
   ],
   "source": [
    "# Map the lambda function x() over casualties\n",
    "list(map((lambda x: x + 100), casualties))\n"
   ]
  },
  {
   "cell_type": "markdown",
   "metadata": {},
   "source": [
    "# Applying Functions To List Items\n"
   ]
  },
  {
   "cell_type": "code",
   "execution_count": 23,
   "metadata": {},
   "outputs": [],
   "source": [
    "regimentNames = ['Night Riflemen', 'Jungle Scouts', 'The Dragoons', 'Midnight Revengence', 'Wily Warriors']\n"
   ]
  },
  {
   "cell_type": "code",
   "execution_count": 24,
   "metadata": {},
   "outputs": [
    {
     "data": {
      "text/plain": [
       "['NIGHT RIFLEMEN',\n",
       " 'JUNGLE SCOUTS',\n",
       " 'THE DRAGOONS',\n",
       " 'MIDNIGHT REVENGENCE',\n",
       " 'WILY WARRIORS']"
      ]
     },
     "execution_count": 24,
     "metadata": {},
     "output_type": "execute_result"
    }
   ],
   "source": [
    "# create a variable for the for loop results\n",
    "regimentNamesCapitalized_f = []\n",
    "\n",
    "# for every item in regimentNames\n",
    "for i in regimentNames:\n",
    "    # capitalize the item and add it to regimentNamesCapitalized_f\n",
    "    regimentNamesCapitalized_f.append(i.upper())\n",
    "\n",
    "# View the outcome\n",
    "regimentNamesCapitalized_f\n"
   ]
  },
  {
   "cell_type": "code",
   "execution_count": 25,
   "metadata": {},
   "outputs": [],
   "source": [
    "capitalizer = lambda x: x.upper()\n"
   ]
  },
  {
   "cell_type": "code",
   "execution_count": 26,
   "metadata": {},
   "outputs": [
    {
     "data": {
      "text/plain": [
       "['NIGHT RIFLEMEN',\n",
       " 'JUNGLE SCOUTS',\n",
       " 'THE DRAGOONS',\n",
       " 'MIDNIGHT REVENGENCE',\n",
       " 'WILY WARRIORS']"
      ]
     },
     "execution_count": 26,
     "metadata": {},
     "output_type": "execute_result"
    }
   ],
   "source": [
    "regimentNamesCapitalized_m = list(map(capitalizer, regimentNames)); regimentNamesCapitalized_m\n"
   ]
  },
  {
   "cell_type": "code",
   "execution_count": 27,
   "metadata": {},
   "outputs": [
    {
     "data": {
      "text/plain": [
       "['NIGHT RIFLEMEN',\n",
       " 'JUNGLE SCOUTS',\n",
       " 'THE DRAGOONS',\n",
       " 'MIDNIGHT REVENGENCE',\n",
       " 'WILY WARRIORS']"
      ]
     },
     "execution_count": 27,
     "metadata": {},
     "output_type": "execute_result"
    }
   ],
   "source": [
    "regimentNamesCapitalized_l = [x.upper() for x in regimentNames]; regimentNamesCapitalized_l\n"
   ]
  },
  {
   "cell_type": "markdown",
   "metadata": {},
   "source": [
    "\n",
    "# Arithmetic Basics\n",
    "\n"
   ]
  },
  {
   "cell_type": "code",
   "execution_count": 28,
   "metadata": {},
   "outputs": [],
   "source": [
    "x = 6\n",
    "y = 9\n"
   ]
  },
  {
   "cell_type": "code",
   "execution_count": 29,
   "metadata": {},
   "outputs": [
    {
     "data": {
      "text/plain": [
       "15"
      ]
     },
     "execution_count": 29,
     "metadata": {},
     "output_type": "execute_result"
    }
   ],
   "source": [
    "x + y\n"
   ]
  },
  {
   "cell_type": "code",
   "execution_count": 30,
   "metadata": {},
   "outputs": [
    {
     "data": {
      "text/plain": [
       "-3"
      ]
     },
     "execution_count": 30,
     "metadata": {},
     "output_type": "execute_result"
    }
   ],
   "source": [
    "x - y\n"
   ]
  },
  {
   "cell_type": "code",
   "execution_count": 31,
   "metadata": {},
   "outputs": [
    {
     "data": {
      "text/plain": [
       "54"
      ]
     },
     "execution_count": 31,
     "metadata": {},
     "output_type": "execute_result"
    }
   ],
   "source": [
    "x * y\n"
   ]
  },
  {
   "cell_type": "code",
   "execution_count": 32,
   "metadata": {},
   "outputs": [
    {
     "data": {
      "text/plain": [
       "6"
      ]
     },
     "execution_count": 32,
     "metadata": {},
     "output_type": "execute_result"
    }
   ],
   "source": [
    "x % y\n"
   ]
  },
  {
   "cell_type": "code",
   "execution_count": 33,
   "metadata": {},
   "outputs": [
    {
     "data": {
      "text/plain": [
       "0.6666666666666666"
      ]
     },
     "execution_count": 33,
     "metadata": {},
     "output_type": "execute_result"
    }
   ],
   "source": [
    "x / y\n"
   ]
  },
  {
   "cell_type": "code",
   "execution_count": 34,
   "metadata": {},
   "outputs": [
    {
     "data": {
      "text/plain": [
       "0"
      ]
     },
     "execution_count": 34,
     "metadata": {},
     "output_type": "execute_result"
    }
   ],
   "source": [
    "x // y\n"
   ]
  },
  {
   "cell_type": "code",
   "execution_count": 35,
   "metadata": {},
   "outputs": [
    {
     "data": {
      "text/plain": [
       "10077696"
      ]
     },
     "execution_count": 35,
     "metadata": {},
     "output_type": "execute_result"
    }
   ],
   "source": [
    "x ** y\n"
   ]
  },
  {
   "cell_type": "code",
   "execution_count": 36,
   "metadata": {},
   "outputs": [
    {
     "data": {
      "text/plain": [
       "2.5"
      ]
     },
     "execution_count": 36,
     "metadata": {},
     "output_type": "execute_result"
    }
   ],
   "source": [
    "(x + y) / x\n"
   ]
  },
  {
   "cell_type": "code",
   "execution_count": 42,
   "metadata": {},
   "outputs": [
    {
     "data": {
      "text/plain": [
       "0.6"
      ]
     },
     "execution_count": 42,
     "metadata": {},
     "output_type": "execute_result"
    }
   ],
   "source": [
    "#Classic divison of 3 by 5\n",
    "\n",
    "3 / 5\n"
   ]
  },
  {
   "cell_type": "code",
   "execution_count": 40,
   "metadata": {},
   "outputs": [
    {
     "data": {
      "text/plain": [
       "0"
      ]
     },
     "execution_count": 40,
     "metadata": {},
     "output_type": "execute_result"
    }
   ],
   "source": [
    "#Floor divison of 3 by 5. This means it truncates any remainder down the its “floor”\n",
    "\n",
    "3 // 5\n"
   ]
  },
  {
   "cell_type": "markdown",
   "metadata": {},
   "source": [
    "# Assignment Operators\n"
   ]
  },
  {
   "cell_type": "code",
   "execution_count": 2,
   "metadata": {},
   "outputs": [],
   "source": [
    "a = 2\n",
    "b = 1\n",
    "c = 0\n",
    "d = 3\n"
   ]
  },
  {
   "cell_type": "code",
   "execution_count": 3,
   "metadata": {},
   "outputs": [
    {
     "data": {
      "text/plain": [
       "3"
      ]
     },
     "execution_count": 3,
     "metadata": {},
     "output_type": "execute_result"
    }
   ],
   "source": [
    "c = a + b\n",
    "c\n"
   ]
  },
  {
   "cell_type": "code",
   "execution_count": 4,
   "metadata": {},
   "outputs": [
    {
     "data": {
      "text/plain": [
       "5"
      ]
     },
     "execution_count": 4,
     "metadata": {},
     "output_type": "execute_result"
    }
   ],
   "source": [
    "c += a\n",
    "c\n"
   ]
  },
  {
   "cell_type": "code",
   "execution_count": 5,
   "metadata": {},
   "outputs": [
    {
     "data": {
      "text/plain": [
       "3"
      ]
     },
     "execution_count": 5,
     "metadata": {},
     "output_type": "execute_result"
    }
   ],
   "source": [
    "c -= a\n",
    "c\n"
   ]
  },
  {
   "cell_type": "code",
   "execution_count": 6,
   "metadata": {},
   "outputs": [
    {
     "data": {
      "text/plain": [
       "6"
      ]
     },
     "execution_count": 6,
     "metadata": {},
     "output_type": "execute_result"
    }
   ],
   "source": [
    "c *= a\n",
    "c\n"
   ]
  },
  {
   "cell_type": "code",
   "execution_count": 7,
   "metadata": {},
   "outputs": [
    {
     "data": {
      "text/plain": [
       "3.0"
      ]
     },
     "execution_count": 7,
     "metadata": {},
     "output_type": "execute_result"
    }
   ],
   "source": [
    "c /= a\n",
    "c\n"
   ]
  },
  {
   "cell_type": "code",
   "execution_count": 8,
   "metadata": {},
   "outputs": [
    {
     "data": {
      "text/plain": [
       "1"
      ]
     },
     "execution_count": 8,
     "metadata": {},
     "output_type": "execute_result"
    }
   ],
   "source": [
    "d %= a\n",
    "d\n"
   ]
  },
  {
   "cell_type": "code",
   "execution_count": 9,
   "metadata": {},
   "outputs": [
    {
     "data": {
      "text/plain": [
       "1"
      ]
     },
     "execution_count": 9,
     "metadata": {},
     "output_type": "execute_result"
    }
   ],
   "source": [
    "d **= a\n",
    "d\n"
   ]
  },
  {
   "cell_type": "code",
   "execution_count": 10,
   "metadata": {},
   "outputs": [
    {
     "data": {
      "text/plain": [
       "0"
      ]
     },
     "execution_count": 10,
     "metadata": {},
     "output_type": "execute_result"
    }
   ],
   "source": [
    "d //= a\n",
    "d\n",
    "\n"
   ]
  },
  {
   "cell_type": "markdown",
   "metadata": {},
   "source": [
    "# Basic Operations With NumPy Array\n"
   ]
  },
  {
   "cell_type": "code",
   "execution_count": 11,
   "metadata": {},
   "outputs": [],
   "source": [
    "# Import modules\n",
    "import numpy as np"
   ]
  },
  {
   "cell_type": "code",
   "execution_count": 12,
   "metadata": {},
   "outputs": [
    {
     "data": {
      "text/plain": [
       "array([4352,  233, 3245,  256, 2394])"
      ]
     },
     "execution_count": 12,
     "metadata": {},
     "output_type": "execute_result"
    }
   ],
   "source": [
    "# Create an array\n",
    "civilian_deaths = np.array([4352, 233, 3245, 256, 2394])\n",
    "civilian_deaths\n"
   ]
  },
  {
   "cell_type": "code",
   "execution_count": 17,
   "metadata": {},
   "outputs": [
    {
     "data": {
      "text/plain": [
       "2096.0"
      ]
     },
     "execution_count": 17,
     "metadata": {},
     "output_type": "execute_result"
    }
   ],
   "source": [
    "# Mean value of the array\n",
    "civilian_deaths.mean()\n"
   ]
  },
  {
   "cell_type": "code",
   "execution_count": 14,
   "metadata": {},
   "outputs": [
    {
     "data": {
      "text/plain": [
       "10480"
      ]
     },
     "execution_count": 14,
     "metadata": {},
     "output_type": "execute_result"
    }
   ],
   "source": [
    "# Total amount of deaths\n",
    "civilian_deaths.sum()\n"
   ]
  },
  {
   "cell_type": "code",
   "execution_count": 15,
   "metadata": {},
   "outputs": [
    {
     "data": {
      "text/plain": [
       "233"
      ]
     },
     "execution_count": 15,
     "metadata": {},
     "output_type": "execute_result"
    }
   ],
   "source": [
    "# Smallest value in the array\n",
    "civilian_deaths.min()\n"
   ]
  },
  {
   "cell_type": "code",
   "execution_count": 16,
   "metadata": {},
   "outputs": [
    {
     "data": {
      "text/plain": [
       "4352"
      ]
     },
     "execution_count": 16,
     "metadata": {},
     "output_type": "execute_result"
    }
   ],
   "source": [
    "# Largest value in the array\n",
    "civilian_deaths.max()\n"
   ]
  },
  {
   "cell_type": "markdown",
   "metadata": {},
   "source": [
    "# Breaking Up String Variables\n"
   ]
  },
  {
   "cell_type": "code",
   "execution_count": 18,
   "metadata": {},
   "outputs": [],
   "source": [
    "variableName = 'This is a string.'\n"
   ]
  },
  {
   "cell_type": "code",
   "execution_count": 19,
   "metadata": {},
   "outputs": [],
   "source": [
    "One, Two, Three = [1, 2, 3]\n"
   ]
  },
  {
   "cell_type": "code",
   "execution_count": 20,
   "metadata": {},
   "outputs": [
    {
     "data": {
      "text/plain": [
       "'B'"
      ]
     },
     "execution_count": 20,
     "metadata": {},
     "output_type": "execute_result"
    }
   ],
   "source": [
    "firstLetter, secondLetter, thirdLetter, fourthLetter = 'Bark'\n",
    "firstLetter\n"
   ]
  },
  {
   "cell_type": "code",
   "execution_count": 21,
   "metadata": {},
   "outputs": [
    {
     "data": {
      "text/plain": [
       "'a'"
      ]
     },
     "execution_count": 21,
     "metadata": {},
     "output_type": "execute_result"
    }
   ],
   "source": [
    "secondLetter\n"
   ]
  },
  {
   "cell_type": "code",
   "execution_count": 22,
   "metadata": {},
   "outputs": [
    {
     "data": {
      "text/plain": [
       "'r'"
      ]
     },
     "execution_count": 22,
     "metadata": {},
     "output_type": "execute_result"
    }
   ],
   "source": [
    "thirdLetter\n"
   ]
  },
  {
   "cell_type": "code",
   "execution_count": 23,
   "metadata": {},
   "outputs": [
    {
     "data": {
      "text/plain": [
       "'k'"
      ]
     },
     "execution_count": 23,
     "metadata": {},
     "output_type": "execute_result"
    }
   ],
   "source": [
    "fourthLetter\n"
   ]
  },
  {
   "cell_type": "code",
   "execution_count": 24,
   "metadata": {},
   "outputs": [
    {
     "data": {
      "text/plain": [
       "'9'"
      ]
     },
     "execution_count": 24,
     "metadata": {},
     "output_type": "execute_result"
    }
   ],
   "source": [
    "firstNumber, secondNumber, thirdNumber, fourthNumber = '9485'\n",
    "firstNumber"
   ]
  },
  {
   "cell_type": "code",
   "execution_count": 25,
   "metadata": {},
   "outputs": [
    {
     "data": {
      "text/plain": [
       "'4'"
      ]
     },
     "execution_count": 25,
     "metadata": {},
     "output_type": "execute_result"
    }
   ],
   "source": [
    "secondNumber\n"
   ]
  },
  {
   "cell_type": "code",
   "execution_count": 26,
   "metadata": {},
   "outputs": [
    {
     "data": {
      "text/plain": [
       "'s'"
      ]
     },
     "execution_count": 26,
     "metadata": {},
     "output_type": "execute_result"
    }
   ],
   "source": [
    "a, *b = 'spam'\n",
    "a\n"
   ]
  },
  {
   "cell_type": "code",
   "execution_count": 27,
   "metadata": {},
   "outputs": [
    {
     "data": {
      "text/plain": [
       "['p', 'a', 'm']"
      ]
     },
     "execution_count": 27,
     "metadata": {},
     "output_type": "execute_result"
    }
   ],
   "source": [
    "b\n"
   ]
  },
  {
   "cell_type": "markdown",
   "metadata": {},
   "source": [
    "# Brute Force D20 Roll Simulator\n"
   ]
  },
  {
   "cell_type": "code",
   "execution_count": 28,
   "metadata": {},
   "outputs": [],
   "source": [
    "import random\n"
   ]
  },
  {
   "cell_type": "code",
   "execution_count": 35,
   "metadata": {},
   "outputs": [],
   "source": [
    "rolling = True\n"
   ]
  },
  {
   "cell_type": "code",
   "execution_count": 36,
   "metadata": {},
   "outputs": [],
   "source": [
    "#Create a while loop that rolls until the first digit is 2 or less and the second digit is 10 or less\n"
   ]
  },
  {
   "cell_type": "code",
   "execution_count": 37,
   "metadata": {},
   "outputs": [
    {
     "name": "stdout",
     "output_type": "stream",
     "text": [
      "Trying again.\n",
      "Trying again.\n",
      "Trying again.\n",
      "Trying again.\n",
      "Trying again.\n",
      "Trying again.\n",
      "Trying again.\n",
      "Trying again.\n",
      "Trying again.\n",
      "Trying again.\n",
      "Trying again.\n",
      "Trying again.\n",
      "Trying again.\n",
      "Trying again.\n",
      "Trying again.\n",
      "Trying again.\n",
      "Trying again.\n",
      "Trying again.\n",
      "Trying again.\n",
      "Trying again.\n",
      "Trying again.\n",
      "Trying again.\n",
      "Trying again.\n",
      "Trying again.\n",
      "Trying again.\n",
      "Trying again.\n",
      "Trying again.\n",
      "Trying again.\n",
      "Trying again.\n",
      "Trying again.\n",
      "Trying again.\n",
      "Trying again.\n",
      "Trying again.\n",
      "Trying again.\n",
      "Trying again.\n",
      "Trying again.\n",
      "Trying again.\n",
      "Trying again.\n",
      "Trying again.\n",
      "Trying again.\n",
      "Trying again.\n",
      "Trying again.\n",
      "Trying again.\n",
      "Trying again.\n",
      "Trying again.\n",
      "Trying again.\n",
      "Trying again.\n",
      "Trying again.\n",
      "Trying again.\n",
      "Trying again.\n",
      "Trying again.\n",
      "Trying again.\n",
      "Trying again.\n",
      "Trying again.\n",
      "Trying again.\n",
      "Trying again.\n",
      "Trying again.\n",
      "Trying again.\n",
      "Trying again.\n",
      "Trying again.\n",
      "Trying again.\n",
      "Trying again.\n",
      "Trying again.\n",
      "Trying again.\n",
      "Trying again.\n",
      "Trying again.\n",
      "Trying again.\n",
      "Trying again.\n",
      "Trying again.\n",
      "Trying again.\n",
      "Trying again.\n",
      "Trying again.\n",
      "Trying again.\n",
      "Trying again.\n",
      "Trying again.\n",
      "Trying again.\n",
      "Trying again.\n",
      "Trying again.\n",
      "Trying again.\n",
      "Trying again.\n",
      "Trying again.\n",
      "Trying again.\n",
      "Trying again.\n",
      "Trying again.\n",
      "Trying again.\n",
      "Trying again.\n",
      "Trying again.\n",
      "Trying again.\n",
      "Trying again.\n",
      "Trying again.\n",
      "Trying again.\n",
      "Trying again.\n",
      "Trying again.\n",
      "Trying again.\n",
      "Trying again.\n",
      "Trying again.\n",
      "Trying again.\n",
      "Trying again.\n",
      "Trying again.\n",
      "Trying again.\n",
      "Trying again.\n",
      "Trying again.\n",
      "Trying again.\n",
      "Trying again.\n",
      "Trying again.\n",
      "Trying again.\n",
      "Trying again.\n",
      "Trying again.\n",
      "Trying again.\n",
      "Trying again.\n",
      "Trying again.\n",
      "Trying again.\n",
      "Trying again.\n",
      "Trying again.\n",
      "Trying again.\n",
      "Trying again.\n",
      "Trying again.\n",
      "Trying again.\n",
      "Trying again.\n",
      "Trying again.\n",
      "Trying again.\n",
      "Trying again.\n",
      "Trying again.\n",
      "Trying again.\n",
      "Trying again.\n",
      "Trying again.\n",
      "Trying again.\n",
      "Trying again.\n",
      "Trying again.\n",
      "Trying again.\n",
      "Trying again.\n",
      "Trying again.\n",
      "Trying again.\n",
      "Trying again.\n",
      "Trying again.\n",
      "Trying again.\n",
      "Trying again.\n",
      "Trying again.\n",
      "Trying again.\n",
      "Trying again.\n",
      "Trying again.\n",
      "Trying again.\n",
      "Trying again.\n",
      "Trying again.\n",
      "Trying again.\n",
      "Trying again.\n",
      "Trying again.\n",
      "Trying again.\n",
      "Trying again.\n",
      "Trying again.\n",
      "Trying again.\n",
      "Trying again.\n",
      "Trying again.\n",
      "Trying again.\n",
      "Trying again.\n",
      "Trying again.\n",
      "Trying again.\n",
      "Trying again.\n",
      "Trying again.\n",
      "Trying again.\n",
      "Trying again.\n",
      "Trying again.\n",
      "Trying again.\n",
      "Trying again.\n",
      "Trying again.\n",
      "Trying again.\n",
      "Trying again.\n",
      "Trying again.\n",
      "Trying again.\n",
      "Trying again.\n",
      "Trying again.\n",
      "Trying again.\n",
      "Trying again.\n",
      "Trying again.\n",
      "Trying again.\n",
      "Trying again.\n",
      "Trying again.\n",
      "Trying again.\n",
      "Trying again.\n",
      "Trying again.\n",
      "Trying again.\n",
      "Trying again.\n",
      "Trying again.\n",
      "Trying again.\n",
      "Trying again.\n",
      "Trying again.\n",
      "Trying again.\n",
      "Trying again.\n",
      "Trying again.\n",
      "Trying again.\n",
      "Trying again.\n",
      "Trying again.\n",
      "Trying again.\n",
      "Trying again.\n",
      "Trying again.\n",
      "Trying again.\n",
      "Trying again.\n",
      "Trying again.\n",
      "Trying again.\n",
      "Trying again.\n",
      "Trying again.\n",
      "Trying again.\n",
      "Trying again.\n",
      "Trying again.\n",
      "Trying again.\n",
      "Trying again.\n",
      "Trying again.\n",
      "Trying again.\n",
      "Trying again.\n",
      "Trying again.\n",
      "Trying again.\n",
      "Trying again.\n",
      "Trying again.\n",
      "Trying again.\n",
      "Trying again.\n",
      "Trying again.\n",
      "Trying again.\n",
      "Trying again.\n",
      "Trying again.\n",
      "Trying again.\n",
      "Trying again.\n",
      "Trying again.\n",
      "Trying again.\n",
      "Trying again.\n",
      "Trying again.\n",
      "Trying again.\n",
      "Trying again.\n",
      "Trying again.\n",
      "Trying again.\n",
      "Trying again.\n",
      "Trying again.\n",
      "Trying again.\n",
      "Trying again.\n",
      "Trying again.\n",
      "Trying again.\n",
      "Trying again.\n",
      "Trying again.\n",
      "Trying again.\n",
      "Trying again.\n",
      "Trying again.\n",
      "Trying again.\n",
      "Trying again.\n",
      "Trying again.\n",
      "Trying again.\n",
      "Trying again.\n",
      "Trying again.\n",
      "Trying again.\n",
      "Trying again.\n",
      "Trying again.\n",
      "Trying again.\n",
      "Trying again.\n",
      "Trying again.\n",
      "Trying again.\n",
      "Trying again.\n",
      "Trying again.\n",
      "Trying again.\n",
      "Trying again.\n",
      "Trying again.\n",
      "Trying again.\n",
      "Trying again.\n",
      "Trying again.\n",
      "Trying again.\n",
      "Trying again.\n",
      "Trying again.\n",
      "Trying again.\n",
      "Trying again.\n",
      "Trying again.\n",
      "Trying again.\n",
      "Trying again.\n",
      "Trying again.\n",
      "Trying again.\n",
      "Trying again.\n",
      "Trying again.\n",
      "Trying again.\n",
      "Trying again.\n",
      "Trying again.\n",
      "Trying again.\n",
      "Trying again.\n",
      "Trying again.\n",
      "Trying again.\n",
      "Trying again.\n",
      "Trying again.\n",
      "Trying again.\n",
      "Trying again.\n",
      "Trying again.\n",
      "Trying again.\n",
      "Trying again.\n",
      "Trying again.\n",
      "Trying again.\n",
      "Trying again.\n",
      "Trying again.\n",
      "Trying again.\n",
      "Trying again.\n",
      "Trying again.\n",
      "Trying again.\n",
      "Trying again.\n",
      "Trying again.\n",
      "Trying again.\n",
      "Trying again.\n",
      "Trying again.\n",
      "Trying again.\n",
      "Trying again.\n",
      "Trying again.\n",
      "Trying again.\n",
      "Trying again.\n",
      "Trying again.\n",
      "Trying again.\n",
      "Trying again.\n",
      "Trying again.\n",
      "Trying again.\n",
      "Trying again.\n",
      "Trying again.\n",
      "Trying again.\n",
      "Trying again.\n",
      "Trying again.\n",
      "Trying again.\n",
      "Trying again.\n",
      "Trying again.\n",
      "Trying again.\n",
      "Trying again.\n",
      "Trying again.\n",
      "Trying again.\n",
      "Trying again.\n",
      "Trying again.\n",
      "Trying again.\n",
      "Trying again.\n",
      "Trying again.\n",
      "Trying again.\n",
      "Trying again.\n",
      "Trying again.\n",
      "Trying again.\n",
      "Trying again.\n",
      "Trying again.\n",
      "Trying again.\n",
      "Trying again.\n",
      "Trying again.\n",
      "Trying again.\n",
      "Trying again.\n",
      "Trying again.\n",
      "Trying again.\n",
      "Trying again.\n",
      "Trying again.\n",
      "Trying again.\n",
      "Trying again.\n",
      "Trying again.\n",
      "Trying again.\n",
      "Trying again.\n",
      "Trying again.\n",
      "Trying again.\n",
      "Trying again.\n",
      "Trying again.\n",
      "Trying again.\n",
      "Trying again.\n",
      "Trying again.\n",
      "Trying again.\n",
      "Trying again.\n",
      "Trying again.\n",
      "Trying again.\n",
      "Trying again.\n",
      "Trying again.\n",
      "Trying again.\n",
      "Trying again.\n",
      "Trying again.\n",
      "Trying again.\n",
      "Trying again.\n",
      "Trying again.\n",
      "Trying again.\n",
      "Trying again.\n",
      "Trying again.\n",
      "Trying again.\n",
      "Trying again.\n",
      "Trying again.\n",
      "Trying again.\n",
      "Trying again.\n",
      "Trying again.\n",
      "Trying again.\n",
      "Trying again.\n",
      "Trying again.\n",
      "Trying again.\n",
      "Trying again.\n",
      "Trying again.\n",
      "Trying again.\n",
      "Trying again.\n",
      "Trying again.\n",
      "Trying again.\n",
      "Trying again.\n",
      "Trying again.\n",
      "Trying again.\n",
      "Trying again.\n",
      "Trying again.\n",
      "Trying again.\n",
      "Trying again.\n",
      "Trying again.\n",
      "Trying again.\n",
      "Trying again.\n",
      "Trying again.\n",
      "Trying again.\n",
      "Trying again.\n",
      "Trying again.\n",
      "Trying again.\n",
      "Trying again.\n",
      "Trying again.\n",
      "Trying again.\n",
      "Trying again.\n",
      "Trying again.\n",
      "Trying again.\n",
      "Trying again.\n",
      "Trying again.\n",
      "Trying again.\n",
      "Trying again.\n",
      "Trying again.\n",
      "Trying again.\n",
      "Trying again.\n",
      "Trying again.\n",
      "Trying again.\n",
      "Trying again.\n",
      "Trying again.\n",
      "Trying again.\n",
      "Trying again.\n",
      "Trying again.\n",
      "Trying again.\n",
      "Trying again.\n",
      "Trying again.\n",
      "Trying again.\n",
      "Trying again.\n",
      "Trying again.\n",
      "Trying again.\n",
      "Trying again.\n",
      "Trying again.\n",
      "Trying again.\n",
      "Trying again.\n",
      "Trying again.\n",
      "Trying again.\n",
      "Trying again.\n",
      "Trying again.\n",
      "Trying again.\n",
      "Trying again.\n",
      "Trying again.\n",
      "Trying again.\n",
      "Trying again.\n",
      "Trying again.\n",
      "Trying again.\n",
      "Trying again.\n",
      "Trying again.\n",
      "Trying again.\n",
      "Trying again.\n",
      "Trying again.\n",
      "Trying again.\n",
      "Trying again.\n",
      "Trying again.\n",
      "Trying again.\n",
      "Trying again.\n",
      "Trying again.\n",
      "Trying again.\n",
      "Trying again.\n",
      "Trying again.\n",
      "Trying again.\n",
      "Trying again.\n",
      "Trying again.\n",
      "Trying again.\n",
      "Trying again.\n",
      "Trying again.\n",
      "Trying again.\n",
      "Trying again.\n",
      "Trying again.\n",
      "Trying again.\n",
      "Trying again.\n",
      "Trying again.\n",
      "Trying again.\n",
      "Trying again.\n",
      "Trying again.\n",
      "Trying again.\n",
      "Trying again.\n",
      "Trying again.\n",
      "Trying again.\n",
      "Trying again.\n",
      "Trying again.\n",
      "Trying again.\n",
      "Trying again.\n",
      "Trying again.\n",
      "Trying again.\n",
      "Trying again.\n",
      "Trying again.\n",
      "Trying again.\n",
      "Trying again.\n",
      "Trying again.\n",
      "Trying again.\n",
      "Trying again.\n",
      "Trying again.\n",
      "Trying again.\n",
      "Trying again.\n",
      "Trying again.\n",
      "Trying again.\n",
      "Trying again.\n",
      "Trying again.\n",
      "Trying again.\n",
      "Trying again.\n",
      "Trying again.\n",
      "Trying again.\n",
      "Trying again.\n",
      "Trying again.\n",
      "Trying again.\n",
      "Trying again.\n",
      "Trying again.\n",
      "Trying again.\n",
      "Trying again.\n",
      "Trying again.\n",
      "Trying again.\n",
      "Trying again.\n",
      "Trying again.\n",
      "Trying again.\n",
      "Trying again.\n",
      "Trying again.\n",
      "Trying again.\n",
      "Trying again.\n",
      "Trying again.\n",
      "Trying again.\n",
      "Trying again.\n",
      "Trying again.\n",
      "Trying again.\n",
      "Trying again.\n",
      "Trying again.\n",
      "Trying again.\n",
      "Trying again.\n",
      "Trying again.\n",
      "Trying again.\n",
      "Trying again.\n",
      "Trying again.\n",
      "Trying again.\n",
      "Trying again.\n",
      "Trying again.\n",
      "Trying again.\n",
      "Trying again.\n",
      "Trying again.\n",
      "Trying again.\n",
      "Trying again.\n",
      "Trying again.\n",
      "Trying again.\n",
      "Trying again.\n",
      "Trying again.\n",
      "Trying again.\n",
      "Trying again.\n",
      "Trying again.\n",
      "Trying again.\n",
      "Trying again.\n",
      "Trying again.\n",
      "Trying again.\n",
      "Trying again.\n",
      "Trying again.\n",
      "Trying again.\n",
      "Trying again.\n",
      "Trying again.\n",
      "Trying again.\n",
      "Trying again.\n",
      "Trying again.\n",
      "Trying again.\n",
      "Trying again.\n",
      "Trying again.\n",
      "Trying again.\n",
      "Trying again.\n",
      "Trying again.\n",
      "Trying again.\n",
      "Trying again.\n",
      "Trying again.\n",
      "Trying again.\n",
      "Trying again.\n",
      "Trying again.\n",
      "Trying again.\n",
      "Trying again.\n",
      "Trying again.\n",
      "Trying again.\n",
      "Trying again.\n",
      "Trying again.\n",
      "Trying again.\n",
      "Trying again.\n",
      "Trying again.\n",
      "Trying again.\n",
      "Trying again.\n",
      "Trying again.\n",
      "Trying again.\n",
      "Trying again.\n",
      "Trying again.\n",
      "Trying again.\n",
      "Trying again.\n",
      "Trying again.\n",
      "Trying again.\n",
      "Trying again.\n",
      "Trying again.\n",
      "Trying again.\n",
      "Trying again.\n",
      "Trying again.\n",
      "Trying again.\n",
      "Trying again.\n",
      "Trying again.\n",
      "Trying again.\n",
      "Trying again.\n",
      "Trying again.\n",
      "Trying again.\n",
      "Trying again.\n",
      "Trying again.\n",
      "Trying again.\n",
      "Trying again.\n",
      "Trying again.\n",
      "Trying again.\n",
      "Trying again.\n",
      "Trying again.\n",
      "Trying again.\n",
      "Trying again.\n",
      "You rolled a 13.\n"
     ]
    }
   ],
   "source": [
    "# while rolling is true\n",
    "while rolling:\n",
    "    # create x, a random number between 0 and 99\n",
    "    x = random.randint(0, 99)\n",
    "    # create y, a random number between 0 and 99\n",
    "    y = random.randint(0, 99)\n",
    "    # if x is less than 2 and y is between 0 and 10\n",
    "    if x < 2 and 0 < y < 10:\n",
    "        # Print the outcome\n",
    "        print('You rolled a {0}{1}.'.format(x, y))\n",
    "        # And set roll of False\n",
    "        rolling = False\n",
    "    # Otherwise\n",
    "    else:\n",
    "        # Try again\n",
    "        print('Trying again.')\n"
   ]
  },
  {
   "cell_type": "markdown",
   "metadata": {},
   "source": [
    "# Indexing And Slicing NumPy Arrays\n"
   ]
  },
  {
   "cell_type": "code",
   "execution_count": 38,
   "metadata": {},
   "outputs": [],
   "source": [
    "# Import modules\n",
    "import numpy as np"
   ]
  },
  {
   "cell_type": "code",
   "execution_count": 40,
   "metadata": {},
   "outputs": [
    {
     "data": {
      "text/plain": [
       "array([[ 344, 2345],\n",
       "       [ 253, 4345]])"
      ]
     },
     "execution_count": 40,
     "metadata": {},
     "output_type": "execute_result"
    }
   ],
   "source": [
    "# Create a 2x2 array\n",
    "battle_deaths = [[344, 2345], [253, 4345]]\n",
    "deaths = np.array(battle_deaths)\n",
    "deaths\n"
   ]
  },
  {
   "cell_type": "code",
   "execution_count": 41,
   "metadata": {},
   "outputs": [
    {
     "data": {
      "text/plain": [
       "2345"
      ]
     },
     "execution_count": 41,
     "metadata": {},
     "output_type": "execute_result"
    }
   ],
   "source": [
    "# Select the top row, second item\n",
    "deaths[0, 1]\n"
   ]
  },
  {
   "cell_type": "code",
   "execution_count": 42,
   "metadata": {},
   "outputs": [
    {
     "data": {
      "text/plain": [
       "array([2345, 4345])"
      ]
     },
     "execution_count": 42,
     "metadata": {},
     "output_type": "execute_result"
    }
   ],
   "source": [
    "# Select the second column\n",
    "deaths[:, 1]\n"
   ]
  },
  {
   "cell_type": "code",
   "execution_count": 43,
   "metadata": {},
   "outputs": [
    {
     "data": {
      "text/plain": [
       "array([ 253, 4345])"
      ]
     },
     "execution_count": 43,
     "metadata": {},
     "output_type": "execute_result"
    }
   ],
   "source": [
    "# Select the second row\n",
    "deaths[1, :]\n"
   ]
  },
  {
   "cell_type": "code",
   "execution_count": 44,
   "metadata": {},
   "outputs": [
    {
     "data": {
      "text/plain": [
       "array([4352,  233, 3245,  256, 2394])"
      ]
     },
     "execution_count": 44,
     "metadata": {},
     "output_type": "execute_result"
    }
   ],
   "source": [
    "# Create an array of civilian deaths\n",
    "civilian_deaths = np.array([4352, 233, 3245, 256, 2394])\n",
    "civilian_deaths\n"
   ]
  },
  {
   "cell_type": "code",
   "execution_count": 45,
   "metadata": {},
   "outputs": [
    {
     "data": {
      "text/plain": [
       "(array([1, 3], dtype=int64),)"
      ]
     },
     "execution_count": 45,
     "metadata": {},
     "output_type": "execute_result"
    }
   ],
   "source": [
    "# Find the index of battles with less than 500 deaths\n",
    "few_civ_deaths = np.where(civilian_deaths < 500)\n",
    "few_civ_deaths"
   ]
  },
  {
   "cell_type": "code",
   "execution_count": 46,
   "metadata": {},
   "outputs": [
    {
     "data": {
      "text/plain": [
       "array([233, 256])"
      ]
     },
     "execution_count": 46,
     "metadata": {},
     "output_type": "execute_result"
    }
   ],
   "source": [
    "# Find the number of civilian deaths in battles with less than 500 deaths\n",
    "civ_deaths = civilian_deaths[few_civ_deaths]\n",
    "civ_deaths\n"
   ]
  },
  {
   "cell_type": "code",
   "execution_count": 47,
   "metadata": {},
   "outputs": [],
   "source": [
    "# Iterate An Ifelse Over A List\n"
   ]
  },
  {
   "cell_type": "code",
   "execution_count": 48,
   "metadata": {},
   "outputs": [],
   "source": [
    "word_list = ['Egypt', 'Watching', 'Eleanor']\n",
    "\n",
    "vowels = ['A', 'E', 'I', 'O', 'U']\n"
   ]
  },
  {
   "cell_type": "code",
   "execution_count": 49,
   "metadata": {},
   "outputs": [
    {
     "name": "stdout",
     "output_type": "stream",
     "text": [
      "Is valid\n",
      "Invalid\n",
      "Is valid\n"
     ]
    }
   ],
   "source": [
    "# for each item in the word_list,\n",
    "for word in word_list:\n",
    "    # if any word starts with e, where e is vowels,\n",
    "    if any([word.startswith(e) for e in vowels]):\n",
    "        # then print is valid,\n",
    "        print('Is valid')\n",
    "    # if not,    \n",
    "    else:\n",
    "        # print invalid\n",
    "        print('Invalid')\n"
   ]
  },
  {
   "cell_type": "markdown",
   "metadata": {},
   "source": [
    "# Iterate Over Multiple Lists Simultaneously\n"
   ]
  },
  {
   "cell_type": "code",
   "execution_count": 50,
   "metadata": {},
   "outputs": [],
   "source": [
    "names = ['James', 'Bob', 'Sarah', 'Marco', 'Nancy', 'Sally']\n",
    "ages = [42, 13, 14, 25, 63, 23]"
   ]
  },
  {
   "cell_type": "code",
   "execution_count": 51,
   "metadata": {},
   "outputs": [
    {
     "name": "stdout",
     "output_type": "stream",
     "text": [
      "James 42\n",
      "Bob 13\n",
      "Sarah 14\n",
      "Marco 25\n",
      "Nancy 63\n",
      "Sally 23\n"
     ]
    }
   ],
   "source": [
    "for name, age in zip(names, ages):\n",
    "     print(name, age)\n"
   ]
  },
  {
   "cell_type": "markdown",
   "metadata": {},
   "source": [
    "# Iterating Over Dictionary Keys\n"
   ]
  },
  {
   "cell_type": "code",
   "execution_count": 52,
   "metadata": {},
   "outputs": [],
   "source": [
    "Officers = {'Michael Mulligan': 'Red Army',\n",
    "            'Steven Johnson': 'Blue Army',\n",
    "            'Jessica Billars': 'Green Army',\n",
    "            'Sodoni Dogla': 'Purple Army',\n",
    "            'Chris Jefferson': 'Orange Army'}\n"
   ]
  },
  {
   "cell_type": "code",
   "execution_count": 53,
   "metadata": {},
   "outputs": [
    {
     "data": {
      "text/plain": [
       "{'Michael Mulligan': 'Red Army',\n",
       " 'Steven Johnson': 'Blue Army',\n",
       " 'Jessica Billars': 'Green Army',\n",
       " 'Sodoni Dogla': 'Purple Army',\n",
       " 'Chris Jefferson': 'Orange Army'}"
      ]
     },
     "execution_count": 53,
     "metadata": {},
     "output_type": "execute_result"
    }
   ],
   "source": [
    "Officers\n"
   ]
  },
  {
   "cell_type": "code",
   "execution_count": 54,
   "metadata": {},
   "outputs": [
    {
     "data": {
      "text/plain": [
       "{'Michael Mulligan': 'Red Army',\n",
       " 'Steven Johnson': 'Blue Army',\n",
       " 'Jessica Billars': 'Green Army',\n",
       " 'Sodoni Dogla': 'Purple Army'}"
      ]
     },
     "execution_count": 54,
     "metadata": {},
     "output_type": "execute_result"
    }
   ],
   "source": [
    "# Display all dictionary entries where the key doesn't start with 'Chris'\n",
    "{keys : Officers[keys] for keys in Officers if not keys.startswith('Chris')}\n"
   ]
  },
  {
   "cell_type": "code",
   "execution_count": 55,
   "metadata": {},
   "outputs": [],
   "source": [
    "# Lambda Functions\n"
   ]
  },
  {
   "cell_type": "code",
   "execution_count": 56,
   "metadata": {},
   "outputs": [],
   "source": [
    "pipeline = [lambda x: x **2 - 1 + 5,\n",
    "            lambda x: x **20 - 2 + 3,\n",
    "            lambda x: x **200 - 1 + 4]\n"
   ]
  },
  {
   "cell_type": "code",
   "execution_count": 57,
   "metadata": {},
   "outputs": [
    {
     "name": "stdout",
     "output_type": "stream",
     "text": [
      "13\n",
      "3486784402\n",
      "265613988875874769338781322035779626829233452653394495974574961739092490901302182994384699044004\n"
     ]
    }
   ],
   "source": [
    "for f in pipeline:\n",
    "    print(f(3))"
   ]
  },
  {
   "cell_type": "markdown",
   "metadata": {},
   "source": [
    "# List All Files Of Certain Type In A Directory\n"
   ]
  },
  {
   "cell_type": "code",
   "execution_count": 58,
   "metadata": {},
   "outputs": [],
   "source": [
    "import os\n"
   ]
  },
  {
   "cell_type": "code",
   "execution_count": 59,
   "metadata": {},
   "outputs": [
    {
     "data": {
      "text/plain": [
       "['Basic_python.ipynb']"
      ]
     },
     "execution_count": 59,
     "metadata": {},
     "output_type": "execute_result"
    }
   ],
   "source": [
    "[x for x in os.listdir() if x.endswith(\".ipynb\")]\n"
   ]
  },
  {
   "cell_type": "code",
   "execution_count": 60,
   "metadata": {},
   "outputs": [],
   "source": [
    "# Logical Operations\n"
   ]
  },
  {
   "cell_type": "code",
   "execution_count": 61,
   "metadata": {},
   "outputs": [],
   "source": [
    "x = 6\n",
    "y = 9\n",
    "z = 12\n"
   ]
  },
  {
   "cell_type": "code",
   "execution_count": 62,
   "metadata": {},
   "outputs": [
    {
     "data": {
      "text/plain": [
       "6"
      ]
     },
     "execution_count": 62,
     "metadata": {},
     "output_type": "execute_result"
    }
   ],
   "source": [
    "x or y\n"
   ]
  },
  {
   "cell_type": "code",
   "execution_count": 63,
   "metadata": {},
   "outputs": [
    {
     "data": {
      "text/plain": [
       "9"
      ]
     },
     "execution_count": 63,
     "metadata": {},
     "output_type": "execute_result"
    }
   ],
   "source": [
    "x and y\n"
   ]
  },
  {
   "cell_type": "code",
   "execution_count": 64,
   "metadata": {},
   "outputs": [
    {
     "data": {
      "text/plain": [
       "False"
      ]
     },
     "execution_count": 64,
     "metadata": {},
     "output_type": "execute_result"
    }
   ],
   "source": [
    "not x\n"
   ]
  },
  {
   "cell_type": "code",
   "execution_count": 65,
   "metadata": {},
   "outputs": [
    {
     "data": {
      "text/plain": [
       "False"
      ]
     },
     "execution_count": 65,
     "metadata": {},
     "output_type": "execute_result"
    }
   ],
   "source": [
    "x == y\n"
   ]
  },
  {
   "cell_type": "code",
   "execution_count": 66,
   "metadata": {},
   "outputs": [
    {
     "data": {
      "text/plain": [
       "True"
      ]
     },
     "execution_count": 66,
     "metadata": {},
     "output_type": "execute_result"
    }
   ],
   "source": [
    "x != y\n"
   ]
  },
  {
   "cell_type": "code",
   "execution_count": 67,
   "metadata": {},
   "outputs": [
    {
     "data": {
      "text/plain": [
       "True"
      ]
     },
     "execution_count": 67,
     "metadata": {},
     "output_type": "execute_result"
    }
   ],
   "source": [
    "1 < 2\n"
   ]
  },
  {
   "cell_type": "code",
   "execution_count": 68,
   "metadata": {},
   "outputs": [
    {
     "data": {
      "text/plain": [
       "True"
      ]
     },
     "execution_count": 68,
     "metadata": {},
     "output_type": "execute_result"
    }
   ],
   "source": [
    "2 <= 4\n"
   ]
  },
  {
   "cell_type": "code",
   "execution_count": 1,
   "metadata": {},
   "outputs": [
    {
     "data": {
      "text/plain": [
       "False"
      ]
     },
     "execution_count": 1,
     "metadata": {},
     "output_type": "execute_result"
    }
   ],
   "source": [
    "3 == 5\n"
   ]
  },
  {
   "cell_type": "code",
   "execution_count": 70,
   "metadata": {},
   "outputs": [
    {
     "data": {
      "text/plain": [
       "True"
      ]
     },
     "execution_count": 70,
     "metadata": {},
     "output_type": "execute_result"
    }
   ],
   "source": [
    "3 != 4\n"
   ]
  },
  {
   "cell_type": "code",
   "execution_count": 71,
   "metadata": {},
   "outputs": [
    {
     "data": {
      "text/plain": [
       "True"
      ]
     },
     "execution_count": 71,
     "metadata": {},
     "output_type": "execute_result"
    }
   ],
   "source": [
    "x < y < z\n"
   ]
  },
  {
   "cell_type": "code",
   "execution_count": 72,
   "metadata": {},
   "outputs": [
    {
     "data": {
      "text/plain": [
       "True"
      ]
     },
     "execution_count": 72,
     "metadata": {},
     "output_type": "execute_result"
    }
   ],
   "source": [
    "x < y and y < z\n"
   ]
  },
  {
   "cell_type": "markdown",
   "metadata": {},
   "source": [
    "# Looping Over Two Lists\n"
   ]
  },
  {
   "cell_type": "code",
   "execution_count": 2,
   "metadata": {},
   "outputs": [],
   "source": [
    "# Create a list of length 3:\n",
    "armies = ['Red Army', 'Blue Army', 'Green Army']\n",
    "\n",
    "# Create a list of length 4:\n",
    "units = ['Red Infantry', 'Blue Armor','Green Artillery','Orange Aircraft']\n"
   ]
  },
  {
   "cell_type": "code",
   "execution_count": 3,
   "metadata": {},
   "outputs": [
    {
     "name": "stdout",
     "output_type": "stream",
     "text": [
      "Red Army has the following options: Red Infantry\n",
      "Blue Army has the following options: Blue Armor\n",
      "Green Army has the following options: Green Artillery\n"
     ]
    }
   ],
   "source": [
    "# For each element in the first list,\n",
    "for army, unit in zip(armies, units):\n",
    "    # Display the corresponding index element of the second list:\n",
    "    print(army, 'has the following options:', unit)\n"
   ]
  },
  {
   "cell_type": "markdown",
   "metadata": {},
   "source": [
    "# Mathematical Operations\n"
   ]
  },
  {
   "cell_type": "code",
   "execution_count": 4,
   "metadata": {},
   "outputs": [],
   "source": [
    "import math\n"
   ]
  },
  {
   "cell_type": "code",
   "execution_count": 5,
   "metadata": {},
   "outputs": [
    {
     "data": {
      "text/plain": [
       "3.141592653589793"
      ]
     },
     "execution_count": 5,
     "metadata": {},
     "output_type": "execute_result"
    }
   ],
   "source": [
    "math.pi\n"
   ]
  },
  {
   "cell_type": "code",
   "execution_count": 6,
   "metadata": {},
   "outputs": [
    {
     "data": {
      "text/plain": [
       "2.718281828459045"
      ]
     },
     "execution_count": 6,
     "metadata": {},
     "output_type": "execute_result"
    }
   ],
   "source": [
    "math.e\n"
   ]
  },
  {
   "cell_type": "code",
   "execution_count": 7,
   "metadata": {},
   "outputs": [
    {
     "data": {
      "text/plain": [
       "0.03489949670250097"
      ]
     },
     "execution_count": 7,
     "metadata": {},
     "output_type": "execute_result"
    }
   ],
   "source": [
    "math.sin(2 * math.pi / 180)\n"
   ]
  },
  {
   "cell_type": "code",
   "execution_count": 8,
   "metadata": {},
   "outputs": [
    {
     "data": {
      "text/plain": [
       "(16, 16)"
      ]
     },
     "execution_count": 8,
     "metadata": {},
     "output_type": "execute_result"
    }
   ],
   "source": [
    "2 ** 4, pow(2, 4)\n"
   ]
  },
  {
   "cell_type": "code",
   "execution_count": 9,
   "metadata": {},
   "outputs": [
    {
     "data": {
      "text/plain": [
       "20"
      ]
     },
     "execution_count": 9,
     "metadata": {},
     "output_type": "execute_result"
    }
   ],
   "source": [
    "abs(-20)\n"
   ]
  },
  {
   "cell_type": "code",
   "execution_count": 10,
   "metadata": {},
   "outputs": [
    {
     "data": {
      "text/plain": [
       "3"
      ]
     },
     "execution_count": 10,
     "metadata": {},
     "output_type": "execute_result"
    }
   ],
   "source": [
    "min(3, 9, 10, 12)\n"
   ]
  },
  {
   "cell_type": "code",
   "execution_count": 11,
   "metadata": {},
   "outputs": [
    {
     "data": {
      "text/plain": [
       "15"
      ]
     },
     "execution_count": 11,
     "metadata": {},
     "output_type": "execute_result"
    }
   ],
   "source": [
    "max(3, 5, 10, 15)\n"
   ]
  },
  {
   "cell_type": "code",
   "execution_count": 12,
   "metadata": {},
   "outputs": [
    {
     "data": {
      "text/plain": [
       "2"
      ]
     },
     "execution_count": 12,
     "metadata": {},
     "output_type": "execute_result"
    }
   ],
   "source": [
    "math.floor(2.949)\n"
   ]
  },
  {
   "cell_type": "code",
   "execution_count": 15,
   "metadata": {},
   "outputs": [
    {
     "data": {
      "text/plain": [
       "33"
      ]
     },
     "execution_count": 15,
     "metadata": {},
     "output_type": "execute_result"
    }
   ],
   "source": [
    "math.ceil(32.09292)\n"
   ]
  },
  {
   "cell_type": "code",
   "execution_count": 14,
   "metadata": {},
   "outputs": [
    {
     "data": {
      "text/plain": [
       "3"
      ]
     },
     "execution_count": 14,
     "metadata": {},
     "output_type": "execute_result"
    }
   ],
   "source": [
    "int(3.292838)\n"
   ]
  },
  {
   "cell_type": "code",
   "execution_count": 16,
   "metadata": {},
   "outputs": [
    {
     "data": {
      "text/plain": [
       "(3, 2)"
      ]
     },
     "execution_count": 16,
     "metadata": {},
     "output_type": "execute_result"
    }
   ],
   "source": [
    "round(2.943), round(2.499)\n"
   ]
  },
  {
   "cell_type": "code",
   "execution_count": 18,
   "metadata": {},
   "outputs": [
    {
     "data": {
      "text/plain": [
       "2.57"
      ]
     },
     "execution_count": 18,
     "metadata": {},
     "output_type": "execute_result"
    }
   ],
   "source": [
    "round(2.569, 2)\n"
   ]
  },
  {
   "cell_type": "markdown",
   "metadata": {},
   "source": [
    "# Cartesian Product\n"
   ]
  },
  {
   "cell_type": "code",
   "execution_count": 19,
   "metadata": {},
   "outputs": [],
   "source": [
    "# import pandas as pd\n",
    "import pandas as pd\n"
   ]
  },
  {
   "cell_type": "code",
   "execution_count": 20,
   "metadata": {},
   "outputs": [],
   "source": [
    "# Create two lists\n",
    "i = [1,2,3,4,5]\n",
    "j = [1,2,3,4,5]\n"
   ]
  },
  {
   "cell_type": "code",
   "execution_count": 21,
   "metadata": {},
   "outputs": [
    {
     "data": {
      "text/plain": [
       "[(1, 1),\n",
       " (1, 2),\n",
       " (1, 3),\n",
       " (1, 4),\n",
       " (1, 5),\n",
       " (2, 1),\n",
       " (2, 2),\n",
       " (2, 3),\n",
       " (2, 4),\n",
       " (2, 5),\n",
       " (3, 1),\n",
       " (3, 2),\n",
       " (3, 3),\n",
       " (3, 4),\n",
       " (3, 5),\n",
       " (4, 1),\n",
       " (4, 2),\n",
       " (4, 3),\n",
       " (4, 4),\n",
       " (4, 5),\n",
       " (5, 1),\n",
       " (5, 2),\n",
       " (5, 3),\n",
       " (5, 4),\n",
       " (5, 5)]"
      ]
     },
     "execution_count": 21,
     "metadata": {},
     "output_type": "execute_result"
    }
   ],
   "source": [
    "# List every single x in i with every single y (i.e. Cartesian product)\n",
    "[(x, y) for x in i for y in j]\n"
   ]
  },
  {
   "cell_type": "code",
   "execution_count": 25,
   "metadata": {},
   "outputs": [
    {
     "name": "stdout",
     "output_type": "stream",
     "text": [
      "(1, 1)\n",
      "(1, 2)\n",
      "(1, 3)\n",
      "(1, 4)\n",
      "(1, 5)\n",
      "(2, 1)\n",
      "(2, 2)\n",
      "(2, 3)\n",
      "(2, 4)\n",
      "(2, 5)\n",
      "(3, 1)\n",
      "(3, 2)\n",
      "(3, 3)\n",
      "(3, 4)\n",
      "(3, 5)\n",
      "(4, 1)\n",
      "(4, 2)\n",
      "(4, 3)\n",
      "(4, 4)\n",
      "(4, 5)\n",
      "(5, 1)\n",
      "(5, 2)\n",
      "(5, 3)\n",
      "(5, 4)\n",
      "(5, 5)\n"
     ]
    }
   ],
   "source": [
    "# An alternative way to do the cartesian product\n",
    "\n",
    "# import itertools\n",
    "import itertools\n",
    "\n",
    "# for two sets, find the the cartisan product\n",
    "for i in itertools.product([1,2,3,4,5], [1,2,3,4,5]):\n",
    "    # and print it\n",
    "    print(i)\n"
   ]
  },
  {
   "cell_type": "markdown",
   "metadata": {},
   "source": [
    "# Mocking Functions\n"
   ]
  },
  {
   "cell_type": "code",
   "execution_count": 26,
   "metadata": {},
   "outputs": [],
   "source": [
    "import unittest\n",
    "+import mock\n",
    "from math import exp\n"
   ]
  },
  {
   "cell_type": "code",
   "execution_count": 27,
   "metadata": {},
   "outputs": [],
   "source": [
    "\n",
    "# Create a function,\n",
    "def mock_function(x):\n",
    "    # That returns a string.\n",
    "    return 'This is not exp, but rather mock_function.'\n"
   ]
  },
  {
   "cell_type": "code",
   "execution_count": 28,
   "metadata": {},
   "outputs": [],
   "source": [
    "# Create a test case,\n",
    "class TestRandom(unittest.TestCase):\n",
    "    # where math.exp (__main__.exp is because we imported the exp module from math)\n",
    "    # math.exp is mocked (replaced) by mock_function,\n",
    "    @mock.patch('__main__.exp', side_effect=mock_function)\n",
    "    # now create a unit test that would only be true IF the exp(4) was being mocked\n",
    "    # (so we can prove that math.exp is actually being mocked)\n",
    "    def test_math_exp(self, mock_function):\n",
    "        # assert that math.exp(4) is actually a string, which would only be the case\n",
    "        # if math.exp was being mocked by mock_function\n",
    "        assert exp(4) == 'This is not exp, but rather mock_function.'\n"
   ]
  },
  {
   "cell_type": "code",
   "execution_count": 30,
   "metadata": {},
   "outputs": [
    {
     "name": "stderr",
     "output_type": "stream",
     "text": [
      "test_math_exp (__main__.TestRandom) ... ok\n",
      "\n",
      "----------------------------------------------------------------------\n",
      "Ran 1 test in 0.002s\n",
      "\n",
      "OK\n"
     ]
    },
    {
     "data": {
      "text/plain": [
       "<unittest.main.TestProgram at 0x1fdc248c780>"
      ]
     },
     "execution_count": 30,
     "metadata": {},
     "output_type": "execute_result"
    }
   ],
   "source": [
    "unittest.main(argv=['ignored', '-v'], exit=False)\n"
   ]
  },
  {
   "cell_type": "markdown",
   "metadata": {},
   "source": [
    "# Chain Together Lists\n"
   ]
  },
  {
   "cell_type": "code",
   "execution_count": 31,
   "metadata": {},
   "outputs": [],
   "source": [
    "from itertools import chain\n"
   ]
  },
  {
   "cell_type": "code",
   "execution_count": 32,
   "metadata": {},
   "outputs": [],
   "source": [
    "# Create a list of allies\n",
    "allies = ['Spain', 'Germany', 'Namibia', 'Austria']\n",
    "\n",
    "# Create a list of enemies\n",
    "enemies = ['Mexico', 'United Kingdom', 'France']\n"
   ]
  },
  {
   "cell_type": "code",
   "execution_count": 33,
   "metadata": {},
   "outputs": [
    {
     "name": "stdout",
     "output_type": "stream",
     "text": [
      "Spain\n",
      "Germany\n",
      "Namibia\n",
      "Austria\n",
      "Mexico\n",
      "United Kingdom\n",
      "France\n"
     ]
    }
   ],
   "source": [
    "# For each country in allies and enemies\n",
    "for country in chain(allies, enemies):\n",
    "    # print the country\n",
    "    print(country)\n"
   ]
  },
  {
   "cell_type": "markdown",
   "metadata": {},
   "source": [
    "# Nested For Loops Using List Comprehension\n"
   ]
  },
  {
   "cell_type": "code",
   "execution_count": 34,
   "metadata": {},
   "outputs": [],
   "source": [
    "# Create two lists\n",
    "squads = [\"1st Squad\", '2nd Squad', '3rd Squad']\n",
    "regiments = [\"51st Regiment\", '15th Regiment', '12th Regiment']\n"
   ]
  },
  {
   "cell_type": "code",
   "execution_count": 35,
   "metadata": {},
   "outputs": [
    {
     "data": {
      "text/plain": [
       "[('51st Regiment', '1st Squad'),\n",
       " ('51st Regiment', '2nd Squad'),\n",
       " ('51st Regiment', '3rd Squad'),\n",
       " ('15th Regiment', '1st Squad'),\n",
       " ('15th Regiment', '2nd Squad'),\n",
       " ('15th Regiment', '3rd Squad'),\n",
       " ('12th Regiment', '1st Squad'),\n",
       " ('12th Regiment', '2nd Squad'),\n",
       " ('12th Regiment', '3rd Squad')]"
      ]
     },
     "execution_count": 35,
     "metadata": {},
     "output_type": "execute_result"
    }
   ],
   "source": [
    "# Create a tuple for each regiment in regiments, for each squad in sqauds\n",
    "[(regiment, squad) for regiment in regiments for squad in squads ]\n"
   ]
  },
  {
   "cell_type": "markdown",
   "metadata": {},
   "source": [
    "# Cleaning Text\n"
   ]
  },
  {
   "cell_type": "code",
   "execution_count": 36,
   "metadata": {},
   "outputs": [],
   "source": [
    "# Create a list of three strings.\n",
    "incoming_reports = [\"We are attacking on their left flank but are losing many men.\", \n",
    "               \"We cannot see the enemy army. Nothing else to report.\", \n",
    "               \"We are ready to attack but are waiting for your orders.\"]\n"
   ]
  },
  {
   "cell_type": "code",
   "execution_count": 37,
   "metadata": {},
   "outputs": [
    {
     "data": {
      "text/plain": [
       "[['We',\n",
       "  'are',\n",
       "  'attacking',\n",
       "  'on',\n",
       "  'their',\n",
       "  'left',\n",
       "  'flank',\n",
       "  'but',\n",
       "  'are',\n",
       "  'losing',\n",
       "  'many',\n",
       "  'men',\n",
       "  '.'],\n",
       " ['We',\n",
       "  'can',\n",
       "  'not',\n",
       "  'see',\n",
       "  'the',\n",
       "  'enemy',\n",
       "  'army',\n",
       "  '.',\n",
       "  'Nothing',\n",
       "  'else',\n",
       "  'to',\n",
       "  'report',\n",
       "  '.'],\n",
       " ['We',\n",
       "  'are',\n",
       "  'ready',\n",
       "  'to',\n",
       "  'attack',\n",
       "  'but',\n",
       "  'are',\n",
       "  'waiting',\n",
       "  'for',\n",
       "  'your',\n",
       "  'orders',\n",
       "  '.']]"
      ]
     },
     "execution_count": 37,
     "metadata": {},
     "output_type": "execute_result"
    }
   ],
   "source": [
    "# import word tokenizer\n",
    "from nltk.tokenize import word_tokenize\n",
    "\n",
    "# Apply word_tokenize to each element of the list called incoming_reports\n",
    "tokenized_reports = [word_tokenize(report) for report in incoming_reports]\n",
    "\n",
    "# View tokenized_reports\n",
    "tokenized_reports\n"
   ]
  },
  {
   "cell_type": "code",
   "execution_count": 38,
   "metadata": {},
   "outputs": [
    {
     "data": {
      "text/plain": [
       "[['We',\n",
       "  'are',\n",
       "  'attacking',\n",
       "  'on',\n",
       "  'their',\n",
       "  'left',\n",
       "  'flank',\n",
       "  'but',\n",
       "  'are',\n",
       "  'losing',\n",
       "  'many',\n",
       "  'men'],\n",
       " ['We',\n",
       "  'can',\n",
       "  'not',\n",
       "  'see',\n",
       "  'the',\n",
       "  'enemy',\n",
       "  'army',\n",
       "  'Nothing',\n",
       "  'else',\n",
       "  'to',\n",
       "  'report'],\n",
       " ['We',\n",
       "  'are',\n",
       "  'ready',\n",
       "  'to',\n",
       "  'attack',\n",
       "  'but',\n",
       "  'are',\n",
       "  'waiting',\n",
       "  'for',\n",
       "  'your',\n",
       "  'orders']]"
      ]
     },
     "execution_count": 38,
     "metadata": {},
     "output_type": "execute_result"
    }
   ],
   "source": [
    "# Import regex\n",
    "import re\n",
    "\n",
    "# Import string\n",
    "import string\n",
    "\n",
    "\n",
    "regex = re.compile('[%s]' % re.escape(string.punctuation)) #see documentation here: http://docs.python.org/2/library/string.html\n",
    "\n",
    "tokenized_reports_no_punctuation = []\n",
    "\n",
    "for review in tokenized_reports:\n",
    "    \n",
    "    new_review = []\n",
    "    for token in review: \n",
    "        new_token = regex.sub(u'', token)\n",
    "        if not new_token == u'':\n",
    "            new_review.append(new_token)\n",
    "    \n",
    "    tokenized_reports_no_punctuation.append(new_review)\n",
    "    \n",
    "tokenized_reports_no_punctuation\n"
   ]
  },
  {
   "cell_type": "code",
   "execution_count": 39,
   "metadata": {},
   "outputs": [
    {
     "data": {
      "text/plain": [
       "[['We', 'attacking', 'left', 'flank', 'losing', 'many', 'men'],\n",
       " ['We', 'see', 'enemy', 'army', 'Nothing', 'else', 'report'],\n",
       " ['We', 'ready', 'attack', 'waiting', 'orders']]"
      ]
     },
     "execution_count": 39,
     "metadata": {},
     "output_type": "execute_result"
    }
   ],
   "source": [
    "\n",
    "from nltk.corpus import stopwords\n",
    "\n",
    "tokenized_reports_no_stopwords = []\n",
    "for report in tokenized_reports_no_punctuation:\n",
    "    new_term_vector = []\n",
    "    for word in report:\n",
    "        if not word in stopwords.words('english'):\n",
    "            new_term_vector.append(word)\n",
    "    tokenized_reports_no_stopwords.append(new_term_vector)\n",
    "            \n",
    "tokenized_reports_no_stopwords\n"
   ]
  },
  {
   "cell_type": "markdown",
   "metadata": {},
   "source": [
    "# Nesting Lists\n"
   ]
  },
  {
   "cell_type": "code",
   "execution_count": 1,
   "metadata": {},
   "outputs": [],
   "source": [
    "# Create a list of three nested lists, each with three items\n",
    "state_regions = [['California', 'Oregon', 'Washington'],\n",
    "        ['Texas','Georgia','Alabama'],\n",
    "        ['Maine','Vermont','New York']]\n"
   ]
  },
  {
   "cell_type": "code",
   "execution_count": 2,
   "metadata": {},
   "outputs": [
    {
     "data": {
      "text/plain": [
       "[['California', 'Oregon', 'Washington'],\n",
       " ['Texas', 'Georgia', 'Alabama'],\n",
       " ['Maine', 'Vermont', 'New York']]"
      ]
     },
     "execution_count": 2,
     "metadata": {},
     "output_type": "execute_result"
    }
   ],
   "source": [
    "# View the list\n",
    "state_regions\n"
   ]
  },
  {
   "cell_type": "code",
   "execution_count": 3,
   "metadata": {},
   "outputs": [
    {
     "data": {
      "text/plain": [
       "'Alabama'"
      ]
     },
     "execution_count": 3,
     "metadata": {},
     "output_type": "execute_result"
    }
   ],
   "source": [
    "# Print the second list's third item\n",
    "state_regions[1][2]\n"
   ]
  },
  {
   "cell_type": "markdown",
   "metadata": {},
   "source": [
    "# Compare Two Dictionaries\n"
   ]
  },
  {
   "cell_type": "code",
   "execution_count": 4,
   "metadata": {},
   "outputs": [],
   "source": [
    "importers = {'El Salvador' : 1234,\n",
    "             'Nicaragua' : 152,\n",
    "             'Spain' : 252\n",
    "            }\n",
    "\n",
    "exporters = {'Spain' : 252,\n",
    "             'Germany' : 251,\n",
    "             'Italy' : 1563\n",
    "             }\n"
   ]
  },
  {
   "cell_type": "code",
   "execution_count": 5,
   "metadata": {},
   "outputs": [
    {
     "data": {
      "text/plain": [
       "{'Spain'}"
      ]
     },
     "execution_count": 5,
     "metadata": {},
     "output_type": "execute_result"
    }
   ],
   "source": [
    "# Find the intersection of importers and exporters\n",
    "importers.keys() & exporters.keys()\n"
   ]
  },
  {
   "cell_type": "code",
   "execution_count": 6,
   "metadata": {},
   "outputs": [
    {
     "data": {
      "text/plain": [
       "{'El Salvador', 'Nicaragua'}"
      ]
     },
     "execution_count": 6,
     "metadata": {},
     "output_type": "execute_result"
    }
   ],
   "source": [
    "# Find the difference between importers and exporters\n",
    "importers.keys() - exporters.keys()\n"
   ]
  },
  {
   "cell_type": "code",
   "execution_count": 7,
   "metadata": {},
   "outputs": [
    {
     "data": {
      "text/plain": [
       "{('Spain', 252)}"
      ]
     },
     "execution_count": 7,
     "metadata": {},
     "output_type": "execute_result"
    }
   ],
   "source": [
    "# Find countries where the amount of exports matches the amount of imports\n",
    "importers.items() & exporters.items()\n"
   ]
  },
  {
   "cell_type": "markdown",
   "metadata": {},
   "source": [
    "# Numpy Array Basics\n"
   ]
  },
  {
   "cell_type": "code",
   "execution_count": 1,
   "metadata": {},
   "outputs": [],
   "source": [
    "# Import modules\n",
    "import numpy as np\n"
   ]
  },
  {
   "cell_type": "code",
   "execution_count": 2,
   "metadata": {},
   "outputs": [
    {
     "data": {
      "text/plain": [
       "[3246, 326, 2754, 2547, 2457, 3456]"
      ]
     },
     "execution_count": 2,
     "metadata": {},
     "output_type": "execute_result"
    }
   ],
   "source": [
    "# Create a list\n",
    "battle_deaths = [3246, 326, 2754, 2547, 2457, 3456]\n",
    "battle_deaths\n"
   ]
  },
  {
   "cell_type": "code",
   "execution_count": 3,
   "metadata": {},
   "outputs": [
    {
     "data": {
      "text/plain": [
       "array([3246,  326, 2754, 2547, 2457, 3456])"
      ]
     },
     "execution_count": 3,
     "metadata": {},
     "output_type": "execute_result"
    }
   ],
   "source": [
    "# Create an array from numpy\n",
    "deaths = np.array(battle_deaths)\n",
    "deaths\n"
   ]
  },
  {
   "cell_type": "code",
   "execution_count": 4,
   "metadata": {},
   "outputs": [
    {
     "data": {
      "text/plain": [
       "array([0., 0., 0., 0., 0., 0.])"
      ]
     },
     "execution_count": 4,
     "metadata": {},
     "output_type": "execute_result"
    }
   ],
   "source": [
    "# Create an array of zeros\n",
    "defectors = np.zeros(6)\n",
    "defectors\n"
   ]
  },
  {
   "cell_type": "code",
   "execution_count": 5,
   "metadata": {},
   "outputs": [
    {
     "data": {
      "text/plain": [
       "array([ 0,  1,  2,  3,  4,  5,  6,  7,  8,  9, 10, 11, 12, 13, 14, 15, 16,\n",
       "       17, 18, 19, 20, 21, 22, 23, 24, 25, 26, 27, 28, 29, 30, 31, 32, 33,\n",
       "       34, 35, 36, 37, 38, 39, 40, 41, 42, 43, 44, 45, 46, 47, 48, 49, 50,\n",
       "       51, 52, 53, 54, 55, 56, 57, 58, 59, 60, 61, 62, 63, 64, 65, 66, 67,\n",
       "       68, 69, 70, 71, 72, 73, 74, 75, 76, 77, 78, 79, 80, 81, 82, 83, 84,\n",
       "       85, 86, 87, 88, 89, 90, 91, 92, 93, 94, 95, 96, 97, 98, 99])"
      ]
     },
     "execution_count": 5,
     "metadata": {},
     "output_type": "execute_result"
    }
   ],
   "source": [
    "# Create a range from 0 to 100\n",
    "zero_to_99 = np.arange(0, 100)\n",
    "zero_to_99\n"
   ]
  },
  {
   "cell_type": "code",
   "execution_count": 6,
   "metadata": {},
   "outputs": [
    {
     "data": {
      "text/plain": [
       "array([0.        , 0.01010101, 0.02020202, 0.03030303, 0.04040404,\n",
       "       0.05050505, 0.06060606, 0.07070707, 0.08080808, 0.09090909,\n",
       "       0.1010101 , 0.11111111, 0.12121212, 0.13131313, 0.14141414,\n",
       "       0.15151515, 0.16161616, 0.17171717, 0.18181818, 0.19191919,\n",
       "       0.2020202 , 0.21212121, 0.22222222, 0.23232323, 0.24242424,\n",
       "       0.25252525, 0.26262626, 0.27272727, 0.28282828, 0.29292929,\n",
       "       0.3030303 , 0.31313131, 0.32323232, 0.33333333, 0.34343434,\n",
       "       0.35353535, 0.36363636, 0.37373737, 0.38383838, 0.39393939,\n",
       "       0.4040404 , 0.41414141, 0.42424242, 0.43434343, 0.44444444,\n",
       "       0.45454545, 0.46464646, 0.47474747, 0.48484848, 0.49494949,\n",
       "       0.50505051, 0.51515152, 0.52525253, 0.53535354, 0.54545455,\n",
       "       0.55555556, 0.56565657, 0.57575758, 0.58585859, 0.5959596 ,\n",
       "       0.60606061, 0.61616162, 0.62626263, 0.63636364, 0.64646465,\n",
       "       0.65656566, 0.66666667, 0.67676768, 0.68686869, 0.6969697 ,\n",
       "       0.70707071, 0.71717172, 0.72727273, 0.73737374, 0.74747475,\n",
       "       0.75757576, 0.76767677, 0.77777778, 0.78787879, 0.7979798 ,\n",
       "       0.80808081, 0.81818182, 0.82828283, 0.83838384, 0.84848485,\n",
       "       0.85858586, 0.86868687, 0.87878788, 0.88888889, 0.8989899 ,\n",
       "       0.90909091, 0.91919192, 0.92929293, 0.93939394, 0.94949495,\n",
       "       0.95959596, 0.96969697, 0.97979798, 0.98989899, 1.        ])"
      ]
     },
     "execution_count": 6,
     "metadata": {},
     "output_type": "execute_result"
    }
   ],
   "source": [
    "# Create 100 ticks between 0 and 1\n",
    "zero_to_1 = np.linspace(0, 1, 100)\n",
    "zero_to_1\n"
   ]
  },
  {
   "cell_type": "code",
   "execution_count": null,
   "metadata": {},
   "outputs": [],
   "source": []
  }
 ],
 "metadata": {
  "kernelspec": {
   "display_name": "Python 3",
   "language": "python",
   "name": "python3"
  },
  "language_info": {
   "codemirror_mode": {
    "name": "ipython",
    "version": 3
   },
   "file_extension": ".py",
   "mimetype": "text/x-python",
   "name": "python",
   "nbconvert_exporter": "python",
   "pygments_lexer": "ipython3",
   "version": "3.7.3"
  }
 },
 "nbformat": 4,
 "nbformat_minor": 2
}
