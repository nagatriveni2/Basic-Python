{
 "cells": [
  {
   "cell_type": "markdown",
   "metadata": {},
   "source": [
    "# Basic Logging\n"
   ]
  },
  {
   "cell_type": "code",
   "execution_count": 1,
   "metadata": {},
   "outputs": [],
   "source": [
    "# Import standard library's logging\n",
    "import logging\n"
   ]
  },
  {
   "cell_type": "code",
   "execution_count": 2,
   "metadata": {},
   "outputs": [],
   "source": [
    "# Configure logging to ignore messages below info (i.e. debug level is ignored)\n",
    "logging.basicConfig(level=logging.INFO)\n"
   ]
  },
  {
   "cell_type": "code",
   "execution_count": 3,
   "metadata": {},
   "outputs": [],
   "source": [
    "# Create function that converts dollars to cents\n",
    "def convert_dollars_to_cents(dollars):\n",
    "    \n",
    "    # Try...\n",
    "    try:\n",
    "        # Multiply dollars by 100\n",
    "        cents = dollars * 100    \n",
    "        \n",
    "        # Convert to integer\n",
    "        cents = int(cents)\n",
    "        \n",
    "        # Send info message that function was run successful\n",
    "        logging.info(\"convert_dollars_to_cents run successfully\")\n",
    "        \n",
    "        # Return cents\n",
    "        return cents\n",
    "    \n",
    "    # If a ValueError is raised\n",
    "    except ValueError:\n",
    "        \n",
    "        # Create data type of input\n",
    "        dollars_type = type(dollars)\n",
    "        \n",
    "        # Create error message detailing the error\n",
    "        error_message = f\"Function input is {dollars_type}, should be <class \\'int\\'>\"\n",
    "        \n",
    "        # Send error message\n",
    "        logging.error(error_message)\n"
   ]
  },
  {
   "cell_type": "code",
   "execution_count": 4,
   "metadata": {},
   "outputs": [
    {
     "name": "stderr",
     "output_type": "stream",
     "text": [
      "INFO:root:convert_dollars_to_cents run successfully\n"
     ]
    },
    {
     "data": {
      "text/plain": [
       "1245"
      ]
     },
     "execution_count": 4,
     "metadata": {},
     "output_type": "execute_result"
    }
   ],
   "source": [
    "# Run function with a float value\n",
    "convert_dollars_to_cents(12.45)\n"
   ]
  },
  {
   "cell_type": "code",
   "execution_count": 5,
   "metadata": {},
   "outputs": [
    {
     "name": "stderr",
     "output_type": "stream",
     "text": [
      "ERROR:root:Function input is <class 'str'>, should be <class 'int'>\n"
     ]
    }
   ],
   "source": [
    "# Run function with a string value\n",
    "convert_dollars_to_cents(\"dsfsd\")\n"
   ]
  },
  {
   "cell_type": "code",
   "execution_count": null,
   "metadata": {},
   "outputs": [],
   "source": []
  }
 ],
 "metadata": {
  "kernelspec": {
   "display_name": "Python 3",
   "language": "python",
   "name": "python3"
  },
  "language_info": {
   "codemirror_mode": {
    "name": "ipython",
    "version": 3
   },
   "file_extension": ".py",
   "mimetype": "text/x-python",
   "name": "python",
   "nbconvert_exporter": "python",
   "pygments_lexer": "ipython3",
   "version": "3.7.3"
  }
 },
 "nbformat": 4,
 "nbformat_minor": 2
}
